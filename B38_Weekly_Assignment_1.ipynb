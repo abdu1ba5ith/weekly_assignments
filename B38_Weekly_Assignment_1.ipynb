{
 "cells": [
  {
   "cell_type": "code",
   "execution_count": null,
   "metadata": {},
   "outputs": [],
   "source": [
    "#Problem statment : 1\n",
    "'''\n",
    "City Names: \n",
    "\n",
    "Write a function called city_country() that takes in the name of a city and its country.\n",
    "The function should return a string formatted like this:\n",
    "\"Santiago, Chile\"\n",
    "\n",
    "Call your function with at least three city-country pairs, and print the values that are returned.\n",
    "\n",
    "'''"
   ]
  },
  {
   "cell_type": "code",
   "execution_count": 1,
   "metadata": {},
   "outputs": [],
   "source": [
    "q='\"'\n",
    "def city_country(city, country): # Passing params\n",
    "    \"\"\"Creating a function to print city & country\"\"\"\n",
    "    print(f\" {q}{city.title()}, {country.title()}{q} \\n\")\n",
    "    \n"
   ]
  },
  {
   "cell_type": "code",
   "execution_count": 2,
   "metadata": {},
   "outputs": [
    {
     "name": "stdout",
     "output_type": "stream",
     "text": [
      " \"Chennai, India\" \n",
      "\n"
     ]
    }
   ],
   "source": [
    "city_country('chennai','india')\n"
   ]
  },
  {
   "cell_type": "code",
   "execution_count": 3,
   "metadata": {},
   "outputs": [
    {
     "name": "stdout",
     "output_type": "stream",
     "text": [
      " \"Istanbul, Turkey\" \n",
      "\n"
     ]
    }
   ],
   "source": [
    "city_country('istanbul','turkey')\n"
   ]
  },
  {
   "cell_type": "code",
   "execution_count": 4,
   "metadata": {},
   "outputs": [
    {
     "name": "stdout",
     "output_type": "stream",
     "text": [
      " \"Beirut, Lebanon\" \n",
      "\n"
     ]
    }
   ],
   "source": [
    "city_country('beirut','lebanon')"
   ]
  },
  {
   "cell_type": "code",
   "execution_count": null,
   "metadata": {},
   "outputs": [],
   "source": [
    "# Problem statment : 2\n",
    "'''\n",
    "concept : arbitary arguments\n",
    "\n",
    "Sandwiches: Write a function that accepts a list of items a person wants on a sandwich.\n",
    "The function should have one parameter that collects as many items as the function call provides,\n",
    "and it should print a summary of the sandwich that’s being ordered.\n",
    "\n",
    " Call the function three times, using a different number of arguments each time.\n",
    "\n",
    "'''\n"
   ]
  },
  {
   "cell_type": "code",
   "execution_count": 5,
   "metadata": {},
   "outputs": [],
   "source": [
    "def make_sandwich(*order):\n",
    "    #x=order\n",
    "    print(f\"{order} \\n\")\n",
    "    "
   ]
  },
  {
   "cell_type": "code",
   "execution_count": 6,
   "metadata": {},
   "outputs": [
    {
     "name": "stdout",
     "output_type": "stream",
     "text": [
      "('bread', 'tomato', 'lettuce', 'cream cheese', 'mayonaise') \n",
      "\n"
     ]
    }
   ],
   "source": [
    "make_sandwich('bread','tomato','lettuce','cream cheese','mayonaise')\n"
   ]
  },
  {
   "cell_type": "code",
   "execution_count": 7,
   "metadata": {},
   "outputs": [
    {
     "name": "stdout",
     "output_type": "stream",
     "text": [
      "('wheat bread', 'chicken', 'cheddar cheese') \n",
      "\n"
     ]
    }
   ],
   "source": [
    "make_sandwich('wheat bread','chicken','cheddar cheese')\n"
   ]
  },
  {
   "cell_type": "code",
   "execution_count": 8,
   "metadata": {},
   "outputs": [
    {
     "name": "stdout",
     "output_type": "stream",
     "text": [
      "('veggies', 'crumbs') \n",
      "\n"
     ]
    }
   ],
   "source": [
    "make_sandwich('veggies','crumbs')\n"
   ]
  },
  {
   "cell_type": "code",
   "execution_count": 9,
   "metadata": {},
   "outputs": [
    {
     "name": "stdout",
     "output_type": "stream",
     "text": [
      "('veggies',) \n",
      "\n"
     ]
    }
   ],
   "source": [
    "make_sandwich('veggies')\n"
   ]
  },
  {
   "cell_type": "code",
   "execution_count": null,
   "metadata": {},
   "outputs": [],
   "source": [
    "# Problem statment 3:"
   ]
  },
  {
   "cell_type": "code",
   "execution_count": null,
   "metadata": {},
   "outputs": [],
   "source": [
    "9-1. Restaurant: Make a class called Restaurant.\n",
    "    The __init__() method for Restaurant should store two attributes: a restaurant_name and a cuisine_type.\n",
    "Make a method called describe_restaurant() that prints these two pieces of information,\n",
    "and a method called open_restaurant() that prints a message indicating that the restaurant is open.\n",
    "Make an instance called restaurant from your class.\n",
    "Print the two attributes individually, and then call both methods"
   ]
  },
  {
   "cell_type": "code",
   "execution_count": 10,
   "metadata": {},
   "outputs": [],
   "source": [
    "class Restaurant:\n",
    "    def __init__(self,restaurant_name,cuisine_type):\n",
    "        self.restaurant_name = restaurant_name\n",
    "        self.cuisine_type   = cuisine_type\n",
    "        \n",
    "    def describe_restaurant(self):\n",
    "        print(f\"welcome to {self.restaurant_name.title()} \\n \\t - the   {self.cuisine_type.upper()} Cuisine Restaurant \\n\")\n",
    "        \n",
    "    def open_restaurant(self):\n",
    "        print(f\" {self.restaurant_name.title()} is open now  \\n \\n\")\n",
    "  "
   ]
  },
  {
   "cell_type": "code",
   "execution_count": 11,
   "metadata": {},
   "outputs": [
    {
     "name": "stdout",
     "output_type": "stream",
     "text": [
      "welcome to Alpha \n",
      " \t - the   INDIAN Cuisine Restaurant \n",
      "\n"
     ]
    }
   ],
   "source": [
    "restaurant=Restaurant('alpha','indian')\n",
    "restaurant.describe_restaurant()\n"
   ]
  },
  {
   "cell_type": "code",
   "execution_count": 12,
   "metadata": {},
   "outputs": [
    {
     "name": "stdout",
     "output_type": "stream",
     "text": [
      " Alpha is open now  \n",
      " \n",
      "\n"
     ]
    }
   ],
   "source": [
    "restaurant.open_restaurant()\n"
   ]
  },
  {
   "cell_type": "code",
   "execution_count": 21,
   "metadata": {},
   "outputs": [
    {
     "name": "stdout",
     "output_type": "stream",
     "text": [
      "welcome to Alpha \n",
      " \t - the   INDIAN Cuisine Restaurant \n",
      "\n",
      " Alpha is open now  \n",
      " \n",
      "\n"
     ]
    }
   ],
   "source": [
    "\n",
    "restaurant.describe_restaurant()\n",
    "restaurant.open_restaurant()"
   ]
  },
  {
   "cell_type": "code",
   "execution_count": null,
   "metadata": {},
   "outputs": [],
   "source": [
    "9-2. Three Restaurants: Start with your class from Exercise 9-1. \n",
    "    Create three different instances from the class, and call describe_restaurant() for each instance."
   ]
  },
  {
   "cell_type": "code",
   "execution_count": 22,
   "metadata": {},
   "outputs": [
    {
     "name": "stdout",
     "output_type": "stream",
     "text": [
      "welcome to Da Vinci \n",
      " \t - the   ITALIAN Cuisine Restaurant \n",
      "\n"
     ]
    }
   ],
   "source": [
    "a1=Restaurant('Da Vinci','Italian')\n",
    "a1.describe_restaurant()\n"
   ]
  },
  {
   "cell_type": "code",
   "execution_count": 23,
   "metadata": {},
   "outputs": [
    {
     "name": "stdout",
     "output_type": "stream",
     "text": [
      "welcome to Maiden Shanghai \n",
      " \t - the   CHINESE Cuisine Restaurant \n",
      "\n"
     ]
    }
   ],
   "source": [
    "a2=Restaurant('maiden shanghai','chinese')\n",
    "a2.describe_restaurant()\n"
   ]
  },
  {
   "cell_type": "code",
   "execution_count": 24,
   "metadata": {},
   "outputs": [
    {
     "name": "stdout",
     "output_type": "stream",
     "text": [
      "welcome to Bagatelle \n",
      " \t - the   MEDITERRANEAN Cuisine Restaurant \n",
      "\n"
     ]
    }
   ],
   "source": [
    "a3=Restaurant('bagatelle','mediterranean')\n",
    "a3.describe_restaurant()\n"
   ]
  },
  {
   "cell_type": "code",
   "execution_count": null,
   "metadata": {},
   "outputs": [],
   "source": [
    "9-3. Users: Make a class called User.\n",
    "    Create two attributes called first_name and last_name, \n",
    "    and then create several other attributes that are typically stored in a user profile. \n",
    "    Make a method called describe_user() that prints a summary of the user’s information.\n",
    "    Make another method called greet_user() that prints a personalized greeting to the user.\n",
    "    \n",
    "Create several instances representing different users, and call both methods for each user."
   ]
  },
  {
   "cell_type": "code",
   "execution_count": 32,
   "metadata": {},
   "outputs": [],
   "source": [
    "class User:\n",
    "    ''' Creating a User class to get details of user and greet them '''\n",
    "    def create_user(self,firstname,lastname,age,location,mobile):\n",
    "        self.firstname  = firstname\n",
    "        self.lastname   = lastname\n",
    "        self.age        = age\n",
    "        self.location   = location\n",
    "        self.mobile     = mobile\n",
    "        \n",
    "    def userdetails(self):\n",
    "        print(\"............... USER DETAILS ...............\")\n",
    "        \n",
    "        print(f\" Name\\t:\\t {self.firstname.title()} {self.lastname.title()}\")\n",
    "        print(f\" Age \\t:\\t {self.age} \")\n",
    "        print(f\" Place \\t:\\t {self.location.title()} \")\n",
    "        print(f\" Mobile\\t:\\t {self.mobile} \")\n",
    "        \n",
    "        print(\"............................................\\n \\n\")\n",
    "        \n",
    "    def greet_user(self):\n",
    "        print(f\"Hello! {self.firstname.title()} {self.lastname.title()} \\n Welcome to Python Programming... \\n \\n\")\n",
    "        "
   ]
  },
  {
   "cell_type": "code",
   "execution_count": 35,
   "metadata": {},
   "outputs": [],
   "source": [
    "user1=User()\n",
    "user1.create_user('alpha','bravo','5','bahamas','45678')\n"
   ]
  },
  {
   "cell_type": "code",
   "execution_count": 36,
   "metadata": {},
   "outputs": [
    {
     "name": "stdout",
     "output_type": "stream",
     "text": [
      "Hello! Alpha Bravo \n",
      " Welcome to Python Programming... \n",
      " \n",
      "\n"
     ]
    }
   ],
   "source": [
    "user1.greet_user()\n"
   ]
  },
  {
   "cell_type": "code",
   "execution_count": 37,
   "metadata": {},
   "outputs": [
    {
     "name": "stdout",
     "output_type": "stream",
     "text": [
      "............... USER DETAILS ...............\n",
      " Name\t:\t Alpha Bravo\n",
      " Age \t:\t 5 \n",
      " Place \t:\t Bahamas \n",
      " Mobile\t:\t 45678 \n",
      "............................................\n",
      " \n",
      "\n"
     ]
    }
   ],
   "source": [
    "user1.userdetails()"
   ]
  },
  {
   "cell_type": "code",
   "execution_count": 38,
   "metadata": {},
   "outputs": [
    {
     "name": "stdout",
     "output_type": "stream",
     "text": [
      "............... USER DETAILS ...............\n",
      " Name\t:\t Snow Bell\n",
      " Age \t:\t 33 \n",
      " Place \t:\t Redmond \n",
      " Mobile\t:\t 55465908 \n",
      "............................................\n",
      " \n",
      "\n",
      "Hello! Snow Bell \n",
      " Welcome to Python Programming... \n",
      " \n",
      "\n"
     ]
    }
   ],
   "source": [
    "user2=User()\n",
    "user2.create_user('snow','bell','33','redmond','55465908')\n",
    "user2.userdetails()\n",
    "user2.greet_user()"
   ]
  },
  {
   "cell_type": "code",
   "execution_count": 39,
   "metadata": {},
   "outputs": [
    {
     "name": "stdout",
     "output_type": "stream",
     "text": [
      "............... USER DETAILS ...............\n",
      " Name\t:\t Oswald \n",
      " Age \t:\t 33 \n",
      " Place \t:\t Fajaro \n",
      " Mobile\t:\t 800435076 \n",
      "............................................\n",
      " \n",
      "\n",
      "Hello! Oswald  \n",
      " Welcome to Python Programming... \n",
      " \n",
      "\n"
     ]
    }
   ],
   "source": [
    "user3=User()\n",
    "user3.create_user('Oswald','','33','fajaro','800435076')\n",
    "user3.userdetails()\n",
    "user3.greet_user()"
   ]
  },
  {
   "cell_type": "code",
   "execution_count": null,
   "metadata": {},
   "outputs": [],
   "source": [
    "# 04-Apr-2021 | Weekly Assignment 1 | Abdul Basith | B38"
   ]
  },
  {
   "cell_type": "code",
   "execution_count": null,
   "metadata": {},
   "outputs": [],
   "source": []
  }
 ],
 "metadata": {
  "kernelspec": {
   "display_name": "Python 3",
   "language": "python",
   "name": "python3"
  },
  "language_info": {
   "codemirror_mode": {
    "name": "ipython",
    "version": 3
   },
   "file_extension": ".py",
   "mimetype": "text/x-python",
   "name": "python",
   "nbconvert_exporter": "python",
   "pygments_lexer": "ipython3",
   "version": "3.8.5"
  }
 },
 "nbformat": 4,
 "nbformat_minor": 4
}
