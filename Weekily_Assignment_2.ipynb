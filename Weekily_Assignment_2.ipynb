{
 "cells": [
  {
   "cell_type": "code",
   "execution_count": null,
   "metadata": {},
   "outputs": [],
   "source": [
    "# PIZZA\n",
    "\n",
    "'''\n",
    "1. Pizzas: Think of at least three kinds of your favorite pizza. Store these pizza names in a list,\n",
    "and then use a for loop to print the name of each pizza.\n",
    "• Modify your for loop to print a sentence using the name of the pizza\n",
    "instead of printing just the name of the pizza. \n",
    "For each pizza you should have one line of output containing a simple statement like I like pepperoni pizza.\n",
    "• Add a line at the end of your program, outside the for loop, that states how much you like pizza.\n",
    "The output should consist of three or more lines about the kinds of pizza you like and then an additional sentence, \n",
    "such as I really love pizza! \n",
    "'''"
   ]
  },
  {
   "cell_type": "code",
   "execution_count": 1,
   "metadata": {},
   "outputs": [],
   "source": [
    "pizza = ['cheese','pepperoni','margherita','veggie','bbq_chicken']"
   ]
  },
  {
   "cell_type": "code",
   "execution_count": 2,
   "metadata": {},
   "outputs": [
    {
     "data": {
      "text/plain": [
       "list"
      ]
     },
     "execution_count": 2,
     "metadata": {},
     "output_type": "execute_result"
    }
   ],
   "source": [
    "type(pizza)"
   ]
  },
  {
   "cell_type": "code",
   "execution_count": 4,
   "metadata": {},
   "outputs": [
    {
     "name": "stdout",
     "output_type": "stream",
     "text": [
      "Cheese\n",
      "Pepperoni\n",
      "Margherita\n",
      "Veggie\n",
      "Bbq_Chicken\n"
     ]
    }
   ],
   "source": [
    "for x in pizza:\n",
    "    print(x.title())"
   ]
  },
  {
   "cell_type": "code",
   "execution_count": 13,
   "metadata": {},
   "outputs": [
    {
     "name": "stdout",
     "output_type": "stream",
     "text": [
      " I like  Cheese pizza \n",
      " I like  Pepperoni pizza \n",
      " I like  Margherita pizza \n",
      " I like  Veggie pizza \n",
      " I like  Bbq_Chicken pizza \n",
      "\n",
      " I like almost all types of pizzas, but i prefer Margherita the most\n"
     ]
    }
   ],
   "source": [
    "for x in pizza:\n",
    "    print(f\" I like  {x.title()} pizza \" )\n",
    "    \n",
    "print(\"\\n I like almost all types of pizzas, but i prefer  the most\" )"
   ]
  },
  {
   "cell_type": "code",
   "execution_count": null,
   "metadata": {},
   "outputs": [],
   "source": [
    "#2. Animals: \n",
    "'''\n",
    "Think of at least three different animals that have a common characteristic.\n",
    "\n",
    " Store the names of these animals in a list, \n",
    " and then use a for loop to print out the name of each animal. \n",
    " • Modify your program to print a statement about each animal, such as A dog would make a great pet. \n",
    " • Add a line at the end of your program stating what these animals have in common. \n",
    " You could print a sentence such as Any of these animals would make a great pet!  \n",
    " \n",
    " '''"
   ]
  },
  {
   "cell_type": "code",
   "execution_count": 19,
   "metadata": {},
   "outputs": [],
   "source": [
    "animals = ['horse','cow','Dog','sheep']"
   ]
  },
  {
   "cell_type": "code",
   "execution_count": 16,
   "metadata": {},
   "outputs": [
    {
     "data": {
      "text/plain": [
       "list"
      ]
     },
     "execution_count": 16,
     "metadata": {},
     "output_type": "execute_result"
    }
   ],
   "source": [
    "type(animals)"
   ]
  },
  {
   "cell_type": "code",
   "execution_count": 21,
   "metadata": {},
   "outputs": [
    {
     "name": "stdout",
     "output_type": "stream",
     "text": [
      "A Horse is a nice pet\n",
      "A Cow is a nice pet\n",
      "A Dog is a nice pet\n",
      "A Sheep is a nice pet\n",
      "\n",
      " These are all the pet which are used for domestic puposes\n"
     ]
    }
   ],
   "source": [
    "for y in animals:\n",
    "    print (f\"A {y.title()} is a nice pet\")\n",
    "    \n",
    "    \n",
    "print(\"\\n These are all the pet which are used for domestic puposes\")"
   ]
  },
  {
   "cell_type": "code",
   "execution_count": null,
   "metadata": {},
   "outputs": [],
   "source": [
    "#3. Alien Colors\n",
    "\n",
    "'''\n",
    "#1: Imagine an alien was just shot down in a game. \n",
    "Create a variable called alien_color and assign it a value of 'green', 'yellow', or 'red'. \n",
    "• Write an if statement to test whether the alien’s color is green. \n",
    "If it is, print a message that the player just earned 5 points. \n",
    "• Write one version of this program that passes the if test and another that fails. \n",
    "(The version that fails will have no output.)\n",
    "'''"
   ]
  },
  {
   "cell_type": "code",
   "execution_count": 27,
   "metadata": {},
   "outputs": [],
   "source": [
    "alien_color = 'green'\n"
   ]
  },
  {
   "cell_type": "code",
   "execution_count": 28,
   "metadata": {},
   "outputs": [
    {
     "name": "stdout",
     "output_type": "stream",
     "text": [
      "You earned 5 points\n"
     ]
    }
   ],
   "source": [
    "if alien_color == 'green':\n",
    "    print('You earned 5 points')\n",
    "    "
   ]
  },
  {
   "cell_type": "code",
   "execution_count": 29,
   "metadata": {},
   "outputs": [],
   "source": [
    "alien_color = 'red'\n",
    "if alien_color == 'green':\n",
    "    print('You earned 5 points')\n",
    "    "
   ]
  },
  {
   "cell_type": "code",
   "execution_count": null,
   "metadata": {},
   "outputs": [],
   "source": []
  },
  {
   "cell_type": "code",
   "execution_count": null,
   "metadata": {},
   "outputs": [],
   "source": [
    "#4 Aliens\n",
    "\n",
    "'''\n",
    " 4. Alien Colors #2: Choose a color for an alien as you did in Exercise 3, and write an if-else chain. \n",
    " • If the alien’s color is green, print a statement that the player just earned 5 points for shooting the alien. \n",
    " • If the alien’s color isn’t green, print a statement that the player just earned 10 points. \n",
    " • Write one version of this program that runs the if block and another that runs the else block.  \n",
    "'''"
   ]
  },
  {
   "cell_type": "code",
   "execution_count": 30,
   "metadata": {},
   "outputs": [
    {
     "name": "stdout",
     "output_type": "stream",
     "text": [
      "You earned 5 points\n"
     ]
    }
   ],
   "source": [
    "alien_color = 'green'\n",
    "if alien_color == 'green':\n",
    "    print('You earned 5 points')\n",
    "else:\n",
    "    print('You earned 10 points')"
   ]
  },
  {
   "cell_type": "code",
   "execution_count": 31,
   "metadata": {},
   "outputs": [
    {
     "name": "stdout",
     "output_type": "stream",
     "text": [
      "You earned 10 points\n"
     ]
    }
   ],
   "source": [
    "alien_color = 'red'\n",
    "if alien_color == 'green':\n",
    "    print('You earned 5 points')\n",
    "else:\n",
    "    print('You earned 10 points')"
   ]
  },
  {
   "cell_type": "code",
   "execution_count": null,
   "metadata": {},
   "outputs": [],
   "source": [
    "# Weekly Assignment 2 | Abdul Basith | B38"
   ]
  }
 ],
 "metadata": {
  "kernelspec": {
   "display_name": "Python 3",
   "language": "python",
   "name": "python3"
  },
  "language_info": {
   "codemirror_mode": {
    "name": "ipython",
    "version": 3
   },
   "file_extension": ".py",
   "mimetype": "text/x-python",
   "name": "python",
   "nbconvert_exporter": "python",
   "pygments_lexer": "ipython3",
   "version": "3.8.5"
  }
 },
 "nbformat": 4,
 "nbformat_minor": 4
}
